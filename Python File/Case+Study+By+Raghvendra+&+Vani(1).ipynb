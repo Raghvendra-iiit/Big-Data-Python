{
 "cells": [
  {
   "cell_type": "markdown",
   "metadata": {},
   "source": [
    "# NYC Parking Tickets: An Exploratory Analysis"
   ]
  },
  {
   "cell_type": "markdown",
   "metadata": {},
   "source": [
    "# Problem Statement"
   ]
  },
  {
   "cell_type": "markdown",
   "metadata": {},
   "source": [
    "## Objectives of the Case Study"
   ]
  },
  {
   "cell_type": "markdown",
   "metadata": {},
   "source": [
    ". Primarily, this case study is meant as a deep dive into the usage of Spark. As you saw while working with Spark, its syntax behaves differently from a regular Python syntax. One of the major objectives of this case study is to gain familiarity with how analysis works in PySpark as opposed to base Python.\n",
    "\n",
    ". Learning the basic idea behind using functions in PySpark can help in using other libraries like SparkR. If you are in a company where R is a primary language, you can easily pick up SparkR syntax and use Spark’s processing power.\n",
    "\n",
    ". The process of running a model-building command boils down to a few lines of code. While drawing inferences from data, the most time-consuming step is preparing the data up to the point of model building. So, this case study will focus more on exploratory analysis."
   ]
  },
  {
   "cell_type": "markdown",
   "metadata": {},
   "source": [
    "# Problem Statement"
   ]
  },
  {
   "cell_type": "markdown",
   "metadata": {},
   "source": [
    "Big data analytics allows you to analyse data at scale. It has applications in almost every industry in the world. Let’s consider an unconventional application that you wouldn’t ordinarily encounter.\n",
    "\n",
    " \n",
    "\n",
    "New York City is a thriving metropolis. Just like most other metros its size, one of the biggest problems its citizens face is parking. The classic combination of a huge number of cars and cramped geography leads to a huge number of parking tickets.\n",
    "\n",
    " \n",
    "\n",
    "In an attempt to scientifically analyse this phenomenon, the NYC Police Department has collected data for parking tickets. Of these, the data files for multiple years are publicly available on Kaggle. We will try and perform some exploratory analysis on a part of this data. Spark will allow us to analyse the full files at high speeds as opposed to taking a series of random samples that will approximate the population. For the scope of this analysis, we will analyse the parking tickets over the year 2017. \n",
    "\n",
    " \n",
    "\n",
    "Note: Although the broad goal of any analysis of this type is to have better parking and fewer tickets, we are not looking for recommendations on how to reduce the number of parking tickets—there are no specific points reserved for this.\n",
    "\n",
    " \n",
    "\n",
    "The purpose of this case study is to conduct an exploratory data analysis that will help you understand the data. Since the size of the dataset is large, your queries will take some time to run, and you will need to identify the correct queries quicker. The questions given below will guide your analysis.\n",
    "\n",
    " \n",
    "\n"
   ]
  },
  {
   "cell_type": "code",
   "execution_count": 1,
   "metadata": {},
   "outputs": [],
   "source": [
    "# importing pyspark session\n",
    "from pyspark.sql import SparkSession\n"
   ]
  },
  {
   "cell_type": "code",
   "execution_count": 2,
   "metadata": {},
   "outputs": [],
   "source": [
    "# importing Visualization libraries\n",
    "import matplotlib.pyplot as plt\n",
    "import seaborn as sns"
   ]
  },
  {
   "cell_type": "code",
   "execution_count": 3,
   "metadata": {},
   "outputs": [],
   "source": [
    "# Name\n",
    "Spark = SparkSession.builder.appName('NYC Parking Tickets Analysis').getOrCreate()"
   ]
  },
  {
   "cell_type": "code",
   "execution_count": 4,
   "metadata": {},
   "outputs": [],
   "source": [
    "# importing the data Set\n",
    "\n",
    "Spark_data = Spark.read.format(\"csv\").option(\"header\", \"true\").load(\"/common_folder/nyc_parking/Parking_Violations_Issued_-_Fiscal_Year_2017.csv\")"
   ]
  },
  {
   "cell_type": "code",
   "execution_count": 5,
   "metadata": {},
   "outputs": [
    {
     "data": {
      "text/plain": [
       "DataFrame[Summons Number: string, Plate ID: string, Registration State: string, Issue Date: string, Violation Code: string, Vehicle Body Type: string, Vehicle Make: string, Violation Precinct: string, Issuer Precinct: string, Violation Time: string]"
      ]
     },
     "execution_count": 5,
     "metadata": {},
     "output_type": "execute_result"
    }
   ],
   "source": [
    "# Check Dataframe\n",
    "Spark_data"
   ]
  },
  {
   "cell_type": "code",
   "execution_count": 6,
   "metadata": {},
   "outputs": [
    {
     "name": "stdout",
     "output_type": "stream",
     "text": [
      "+--------------+--------+------------------+----------+--------------+-----------------+------------+------------------+---------------+--------------+\n",
      "|Summons Number|Plate ID|Registration State|Issue Date|Violation Code|Vehicle Body Type|Vehicle Make|Violation Precinct|Issuer Precinct|Violation Time|\n",
      "+--------------+--------+------------------+----------+--------------+-----------------+------------+------------------+---------------+--------------+\n",
      "|    5092469481| GZH7067|                NY|2016-07-10|             7|             SUBN|       TOYOT|                 0|              0|         0143A|\n",
      "|    5092451658| GZH7067|                NY|2016-07-08|             7|             SUBN|       TOYOT|                 0|              0|         0400P|\n",
      "|    4006265037| FZX9232|                NY|2016-08-23|             5|             SUBN|        FORD|                 0|              0|         0233P|\n",
      "|    8478629828| 66623ME|                NY|2017-06-14|            47|             REFG|       MITSU|                14|             14|         1120A|\n",
      "|    7868300310| 37033JV|                NY|2016-11-21|            69|             DELV|       INTER|                13|             13|         0555P|\n",
      "+--------------+--------+------------------+----------+--------------+-----------------+------------+------------------+---------------+--------------+\n",
      "only showing top 5 rows\n",
      "\n"
     ]
    }
   ],
   "source": [
    "# Show spark data . \n",
    "Spark_data.show(5)"
   ]
  },
  {
   "cell_type": "code",
   "execution_count": 7,
   "metadata": {},
   "outputs": [
    {
     "name": "stdout",
     "output_type": "stream",
     "text": [
      "+-------+--------------------+--------+------------------+----------+------------------+------------------+------------------+------------------+-----------------+-----------------+\n",
      "|summary|      Summons Number|Plate ID|Registration State|Issue Date|    Violation Code| Vehicle Body Type|      Vehicle Make|Violation Precinct|  Issuer Precinct|   Violation Time|\n",
      "+-------+--------------------+--------+------------------+----------+------------------+------------------+------------------+------------------+-----------------+-----------------+\n",
      "|  count|            10803028|10803028|          10803028|  10803028|          10803028|          10803028|          10803028|          10803028|         10803028|         10803028|\n",
      "|   mean|  6.81744702906579E9|Infinity|              99.0|      null|34.599430455979565|3.9258887134586864| 6519.974025974026| 45.01216260848347|46.82931211508477|909.2857142857143|\n",
      "| stddev|2.3202339623282275E9|     NaN|               0.0|      null|19.359868716323483|0.5013415469252528|18091.257389147086|  40.5525602684357|62.66703577269572|791.8453853409226|\n",
      "|    min|          1002884949|   #1MOM|                99|1972-03-30|                 0|                00|             ,FREI|                 0|                0|            .240P|\n",
      "|    max|          8585600044|       ~|                WY|2069-11-19|                99|               nan|               nan|                99|              997|              nan|\n",
      "+-------+--------------------+--------+------------------+----------+------------------+------------------+------------------+------------------+-----------------+-----------------+\n",
      "\n"
     ]
    }
   ],
   "source": [
    "# summary statistics\n",
    "Spark_data.describe().show()"
   ]
  },
  {
   "cell_type": "code",
   "execution_count": 8,
   "metadata": {},
   "outputs": [
    {
     "name": "stdout",
     "output_type": "stream",
     "text": [
      "root\n",
      " |-- Summons Number: string (nullable = true)\n",
      " |-- Plate ID: string (nullable = true)\n",
      " |-- Registration State: string (nullable = true)\n",
      " |-- Issue Date: string (nullable = true)\n",
      " |-- Violation Code: string (nullable = true)\n",
      " |-- Vehicle Body Type: string (nullable = true)\n",
      " |-- Vehicle Make: string (nullable = true)\n",
      " |-- Violation Precinct: string (nullable = true)\n",
      " |-- Issuer Precinct: string (nullable = true)\n",
      " |-- Violation Time: string (nullable = true)\n",
      "\n"
     ]
    }
   ],
   "source": [
    "# Check The Schema . \n",
    "Spark_data.printSchema()"
   ]
  },
  {
   "cell_type": "code",
   "execution_count": 9,
   "metadata": {},
   "outputs": [
    {
     "data": {
      "text/plain": [
       "10803028"
      ]
     },
     "execution_count": 9,
     "metadata": {},
     "output_type": "execute_result"
    }
   ],
   "source": [
    "# Check the no of rows .\n",
    "Spark_data.count()"
   ]
  },
  {
   "cell_type": "code",
   "execution_count": 10,
   "metadata": {},
   "outputs": [
    {
     "data": {
      "text/plain": [
       "10"
      ]
     },
     "execution_count": 10,
     "metadata": {},
     "output_type": "execute_result"
    }
   ],
   "source": [
    "# Check the Length of columns .\n",
    "len(Spark_data.columns)"
   ]
  },
  {
   "cell_type": "code",
   "execution_count": 11,
   "metadata": {},
   "outputs": [
    {
     "data": {
      "text/plain": [
       "10803028"
      ]
     },
     "execution_count": 11,
     "metadata": {},
     "output_type": "execute_result"
    }
   ],
   "source": [
    "# Drop Duplicates values if exists. \n",
    "Spark_data = Spark_data.dropDuplicates()\n",
    "Spark_data.count()"
   ]
  },
  {
   "cell_type": "code",
   "execution_count": 12,
   "metadata": {},
   "outputs": [
    {
     "data": {
      "text/plain": [
       "10803028"
      ]
     },
     "execution_count": 12,
     "metadata": {},
     "output_type": "execute_result"
    }
   ],
   "source": [
    "# Drop Null Values if Exist.\n",
    "Spark_data = Spark_data.dropna()\n",
    "\n",
    "Spark_data.count()"
   ]
  },
  {
   "cell_type": "code",
   "execution_count": 13,
   "metadata": {},
   "outputs": [],
   "source": [
    "# call functions  count, when, lit, col, max, regexp_replace, from_unixtime, isnan, expr, substring,countDistinct, desc from Pyspark .\n",
    "from pyspark.sql.functions import count, when, lit, col, max, regexp_replace, from_unixtime, isnan, expr, substring,countDistinct, desc"
   ]
  },
  {
   "cell_type": "code",
   "execution_count": 14,
   "metadata": {},
   "outputs": [],
   "source": [
    "\n",
    "Spark_data = Spark_data.withColumn(\"Summons_Number\", col(\"Summons Number\").cast(\"Long\"))\n",
    "Spark_data = Spark_data.withColumn(\"Issue_Date\", col(\"Issue Date\").cast(\"Date\"))\n",
    "Spark_data = Spark_data.withColumn(\"Violation_Code\", col(\"Violation Code\").cast(\"Int\"))\n",
    "Spark_data = Spark_data.withColumn(\"Violation_Precinct\", col(\"Violation Precinct\").cast(\"Int\"))\n",
    "Spark_data = Spark_data.withColumn(\"Issuer_Precinct\", col(\"Issuer Precinct\").cast(\"Int\"))"
   ]
  },
  {
   "cell_type": "code",
   "execution_count": 15,
   "metadata": {},
   "outputs": [],
   "source": [
    "Spark_data.createOrReplaceTempView(\"Spark_data_Complete_Table\")"
   ]
  },
  {
   "cell_type": "code",
   "execution_count": 16,
   "metadata": {},
   "outputs": [
    {
     "name": "stdout",
     "output_type": "stream",
     "text": [
      "+--------------+--------+------------------+----------+--------------+-----------------+------------+------------------+---------------+--------------+\n",
      "|Summons_Number|Plate_ID|Registration_State|Issue_Date|Violation_Code|Vehicle_Body_Type|Vehicle_Make|Violation_Precinct|Issuer_Precinct|Violation_Time|\n",
      "+--------------+--------+------------------+----------+--------------+-----------------+------------+------------------+---------------+--------------+\n",
      "|    4628596529| FFV9629|                NY|2016-12-16|            36|             SUBN|       SUBAR|                 0|              0|         0100P|\n",
      "|    4628733510| FYM4253|                NY|2016-12-22|            36|             4DSD|       CHEVR|                 0|              0|         0100P|\n",
      "|    4635150288| GUW9906|                NY|2017-06-15|            36|             4DSD|       ACURA|                 0|              0|         0100P|\n",
      "|    4631812084| HCF7779|                NY|2017-03-15|            36|             SUBN|       HONDA|                 0|              0|         0100P|\n",
      "|    4633972005| HLA6429|                NY|2017-05-16|            36|             SUBN|       VOLKS|                 0|              0|         0100P|\n",
      "+--------------+--------+------------------+----------+--------------+-----------------+------------+------------------+---------------+--------------+\n",
      "only showing top 5 rows\n",
      "\n"
     ]
    }
   ],
   "source": [
    "# After Creating createOrReplaceTempView .\n",
    "Spark_data = Spark.sql(\n",
    "    \"SELECT \\\n",
    "    `Summons_Number` as `Summons_Number`, \\\n",
    "    `Plate ID` as `Plate_ID`, \\\n",
    "    `Registration State` as `Registration_State`, \\\n",
    "    `Issue_Date` as `Issue_Date`, \\\n",
    "    `Violation_Code` as `Violation_Code`, \\\n",
    "    `Vehicle Body Type` as `Vehicle_Body_Type`, \\\n",
    "    `Vehicle Make` as `Vehicle_Make`, \\\n",
    "    `Violation_Precinct` as `Violation_Precinct`, \\\n",
    "    `Issuer_Precinct` as `Issuer_Precinct`, \\\n",
    "    `Violation Time` as `Violation_Time` \\\n",
    "    FROM Spark_data_Complete_Table\"\n",
    ")\n",
    "Spark_data.show(5)"
   ]
  },
  {
   "cell_type": "code",
   "execution_count": 17,
   "metadata": {},
   "outputs": [
    {
     "name": "stdout",
     "output_type": "stream",
     "text": [
      "root\n",
      " |-- Summons_Number: long (nullable = true)\n",
      " |-- Plate_ID: string (nullable = true)\n",
      " |-- Registration_State: string (nullable = true)\n",
      " |-- Issue_Date: date (nullable = true)\n",
      " |-- Violation_Code: integer (nullable = true)\n",
      " |-- Vehicle_Body_Type: string (nullable = true)\n",
      " |-- Vehicle_Make: string (nullable = true)\n",
      " |-- Violation_Precinct: integer (nullable = true)\n",
      " |-- Issuer_Precinct: integer (nullable = true)\n",
      " |-- Violation_Time: string (nullable = true)\n",
      "\n"
     ]
    }
   ],
   "source": [
    "# Check Schema.\n",
    "Spark_data.printSchema()"
   ]
  },
  {
   "cell_type": "code",
   "execution_count": 18,
   "metadata": {},
   "outputs": [
    {
     "data": {
      "text/plain": [
       "StructType(List(StructField(Summons_Number,LongType,true),StructField(Plate_ID,StringType,true),StructField(Registration_State,StringType,true),StructField(Issue_Date,DateType,true),StructField(Violation_Code,IntegerType,true),StructField(Vehicle_Body_Type,StringType,true),StructField(Vehicle_Make,StringType,true),StructField(Violation_Precinct,IntegerType,true),StructField(Issuer_Precinct,IntegerType,true),StructField(Violation_Time,StringType,true)))"
      ]
     },
     "execution_count": 18,
     "metadata": {},
     "output_type": "execute_result"
    }
   ],
   "source": [
    "Spark_data.schema"
   ]
  },
  {
   "cell_type": "code",
   "execution_count": 19,
   "metadata": {},
   "outputs": [
    {
     "name": "stdout",
     "output_type": "stream",
     "text": [
      "+-------+-------------------+\n",
      "|summary|     Summons_Number|\n",
      "+-------+-------------------+\n",
      "|  count|           10803028|\n",
      "|   mean|6.817447029065298E9|\n",
      "| stddev|2.320233962328216E9|\n",
      "|    min|         1002884949|\n",
      "|    max|         8585600044|\n",
      "+-------+-------------------+\n",
      "\n"
     ]
    }
   ],
   "source": [
    "# Check the Summons_Number.\n",
    "Spark_data.describe(\"Summons_Number\").show()"
   ]
  },
  {
   "cell_type": "code",
   "execution_count": 20,
   "metadata": {},
   "outputs": [
    {
     "name": "stdout",
     "output_type": "stream",
     "text": [
      "+-------+--------+\n",
      "|summary|Plate_ID|\n",
      "+-------+--------+\n",
      "|  count|10803028|\n",
      "|   mean|Infinity|\n",
      "| stddev|     NaN|\n",
      "|    min|   #1MOM|\n",
      "|    max|       ~|\n",
      "+-------+--------+\n",
      "\n",
      "+-------+------------------+\n",
      "|summary|Registration_State|\n",
      "+-------+------------------+\n",
      "|  count|          10803028|\n",
      "|   mean|              99.0|\n",
      "| stddev|               0.0|\n",
      "|    min|                99|\n",
      "|    max|                WY|\n",
      "+-------+------------------+\n",
      "\n",
      "+-------+------------------+\n",
      "|summary|    Violation_Code|\n",
      "+-------+------------------+\n",
      "|  count|          10803028|\n",
      "|   mean|34.599430455979565|\n",
      "| stddev|19.359868716323934|\n",
      "|    min|                 0|\n",
      "|    max|                99|\n",
      "+-------+------------------+\n",
      "\n",
      "+-------+------------------+\n",
      "|summary|Violation_Precinct|\n",
      "+-------+------------------+\n",
      "|  count|          10803028|\n",
      "|   mean| 45.01216260848347|\n",
      "| stddev|40.552560268436075|\n",
      "|    min|                 0|\n",
      "|    max|               933|\n",
      "+-------+------------------+\n",
      "\n",
      "+-------+------------------+\n",
      "|summary| Vehicle_Body_Type|\n",
      "+-------+------------------+\n",
      "|  count|          10803028|\n",
      "|   mean|3.9258887134586864|\n",
      "| stddev|0.5013415469252525|\n",
      "|    min|                00|\n",
      "|    max|               nan|\n",
      "+-------+------------------+\n",
      "\n",
      "+-------+------------------+\n",
      "|summary|      Vehicle_Make|\n",
      "+-------+------------------+\n",
      "|  count|          10803028|\n",
      "|   mean| 6519.974025974026|\n",
      "| stddev|18091.257389147086|\n",
      "|    min|             ,FREI|\n",
      "|    max|               nan|\n",
      "+-------+------------------+\n",
      "\n",
      "+-------+-----------------+\n",
      "|summary|  Issuer_Precinct|\n",
      "+-------+-----------------+\n",
      "|  count|         10803028|\n",
      "|   mean|46.82931211508477|\n",
      "| stddev|62.66703577269452|\n",
      "|    min|                0|\n",
      "|    max|              997|\n",
      "+-------+-----------------+\n",
      "\n",
      "+-------+-----------------+\n",
      "|summary|   Violation_Time|\n",
      "+-------+-----------------+\n",
      "|  count|         10803028|\n",
      "|   mean|909.2857142857143|\n",
      "| stddev|791.8453853409227|\n",
      "|    min|            .240P|\n",
      "|    max|              nan|\n",
      "+-------+-----------------+\n",
      "\n"
     ]
    }
   ],
   "source": [
    "# Check the Plate_ID, Registration_State, Violation_Code, Violation_Precinct, Vehicle_Body_Type, Vehicle_Make, Issuer_Precinct,Violation_Time \n",
    "Spark_data.describe(\"Plate_ID\").show()\n",
    "Spark_data.describe(\"Registration_State\").show()\n",
    "Spark_data.describe(\"Violation_Code\").show()\n",
    "Spark_data.describe(\"Violation_Precinct\").show()\n",
    "Spark_data.describe(\"Vehicle_Body_Type\").show()\n",
    "Spark_data.describe(\"Vehicle_Make\").show()\n",
    "Spark_data.describe(\"Issuer_Precinct\").show()\n",
    "Spark_data.describe(\"Violation_Time\").show()"
   ]
  },
  {
   "cell_type": "code",
   "execution_count": 21,
   "metadata": {},
   "outputs": [],
   "source": [
    "# CREATING TEMPORARY SQL VIEW TO PROCEED WITH FURTHER ANALYSIS\n",
    "\n",
    "Spark_data.createOrReplaceTempView(\"Spark_data_Complete_Table\")"
   ]
  },
  {
   "cell_type": "code",
   "execution_count": 22,
   "metadata": {},
   "outputs": [
    {
     "name": "stdout",
     "output_type": "stream",
     "text": [
      "+-------+--------------------+\n",
      "|summary|  Registration_State|\n",
      "+-------+--------------------+\n",
      "|  count|            10803028|\n",
      "|   mean|                99.0|\n",
      "| stddev|7.253431358133088...|\n",
      "|    min|                  99|\n",
      "|    max|                  WY|\n",
      "+-------+--------------------+\n",
      "\n"
     ]
    }
   ],
   "source": [
    "Spark_data.describe(\"Registration_State\").show()"
   ]
  },
  {
   "cell_type": "code",
   "execution_count": 23,
   "metadata": {},
   "outputs": [
    {
     "data": {
      "image/png": "[encoded data removed]",
      "text/plain": [
       "<Figure size 864x864 with 1 Axes>"
      ]
     },
     "metadata": {},
     "output_type": "display_data"
    }
   ],
   "source": [
    "# Visualizing tickets_distribution w.r.t Registration_State\n",
    "Ticket_Distribution = Spark.sql(\"SELECT `Registration_State`, count(*) as `Tickets form State` FROM Spark_data_Complete_Table GROUP BY `Registration_State`\")\n",
    "plotdata = Ticket_Distribution.toPandas().set_index('Registration_State').plot.barh(figsize=(12, 12))\n"
   ]
  },
  {
   "cell_type": "code",
   "execution_count": 24,
   "metadata": {},
   "outputs": [
    {
     "name": "stdout",
     "output_type": "stream",
     "text": [
      "+----+-------------+\n",
      "|year|no_of_tickets|\n",
      "+----+-------------+\n",
      "|1972|            2|\n",
      "|1973|            2|\n",
      "|1974|            1|\n",
      "|1976|            1|\n",
      "|1977|            1|\n",
      "|1984|            1|\n",
      "|1985|            1|\n",
      "|1990|            2|\n",
      "|1991|            3|\n",
      "|1994|            1|\n",
      "|1996|            1|\n",
      "|1997|            1|\n",
      "|2000|          185|\n",
      "|2001|            2|\n",
      "|2002|            1|\n",
      "|2003|            1|\n",
      "|2004|            2|\n",
      "|2005|            1|\n",
      "|2006|            8|\n",
      "|2007|           18|\n",
      "|2008|            4|\n",
      "|2009|            3|\n",
      "|2010|           48|\n",
      "|2011|           22|\n",
      "|2012|           87|\n",
      "|2013|           70|\n",
      "|2014|          120|\n",
      "|2015|          419|\n",
      "|2016|      5368391|\n",
      "|2017|      5431918|\n",
      "|2018|         1057|\n",
      "|2019|          472|\n",
      "|2020|           22|\n",
      "|2021|           22|\n",
      "|2022|            4|\n",
      "|2023|            5|\n",
      "|2024|            3|\n",
      "|2025|            6|\n",
      "|2026|           24|\n",
      "|2027|           50|\n",
      "|2028|            8|\n",
      "|2029|            2|\n",
      "|2030|           12|\n",
      "|2031|            5|\n",
      "|2033|            2|\n",
      "|2036|            1|\n",
      "|2041|            1|\n",
      "|2047|            2|\n",
      "|2053|            1|\n",
      "|2060|            2|\n",
      "|2061|            1|\n",
      "|2062|            2|\n",
      "|2063|            2|\n",
      "|2068|            1|\n",
      "|2069|            4|\n",
      "+----+-------------+\n",
      "\n"
     ]
    }
   ],
   "source": [
    "# Total number of tickets for each year\n",
    "Total_Ticket_Per_Year = Spark.sql(\"select year(Issue_Date) as year, count(Summons_Number) as no_of_tickets from Spark_data_Complete_Table group by year order by year\")\n",
    "Total_Ticket_Per_Year.show(100)"
   ]
  },
  {
   "cell_type": "markdown",
   "metadata": {},
   "source": [
    "# Comments ....\n",
    "\n",
    "--- In there we have get the data from 1972 to 2069 .\n",
    "\n",
    "--- We will analyse the parking tickets over the year 2017."
   ]
  },
  {
   "cell_type": "code",
   "execution_count": 25,
   "metadata": {},
   "outputs": [
    {
     "data": {
      "text/plain": [
       "55"
      ]
     },
     "execution_count": 25,
     "metadata": {},
     "output_type": "execute_result"
    }
   ],
   "source": [
    "# count per year.\n",
    "Total_Ticket_Per_Year.count()"
   ]
  },
  {
   "cell_type": "code",
   "execution_count": 26,
   "metadata": {},
   "outputs": [
    {
     "data": {
      "text/plain": [
       "5431918"
      ]
     },
     "execution_count": 26,
     "metadata": {},
     "output_type": "execute_result"
    }
   ],
   "source": [
    "# Filtering only 2017 data\n",
    "Spark_data.createOrReplaceTempView(\"tble_view2017\")\n",
    "Spark_data=Spark.sql(\"select * from tble_view2017 where year(TO_DATE(CAST(UNIX_TIMESTAMP(Issue_Date,'MM/dd/yyyy') AS TIMESTAMP))) = 2017 \")\n",
    "Spark_data.count()"
   ]
  },
  {
   "cell_type": "code",
   "execution_count": 27,
   "metadata": {},
   "outputs": [
    {
     "name": "stdout",
     "output_type": "stream",
     "text": [
      "+----+-----+----------------+\n",
      "|year|month|Ticket_Frequency|\n",
      "+----+-----+----------------+\n",
      "|2017|    5|         1020244|\n",
      "|2017|    3|          964737|\n",
      "|2017|    4|          888402|\n",
      "|2017|    1|          877365|\n",
      "|2017|    6|          852187|\n",
      "|2017|    2|          826967|\n",
      "|2017|    7|             370|\n",
      "|2017|    9|             367|\n",
      "|2017|   12|             358|\n",
      "|2017|   11|             338|\n",
      "|2017|    8|             309|\n",
      "|2017|   10|             274|\n",
      "+----+-----+----------------+\n",
      "\n"
     ]
    }
   ],
   "source": [
    "#  create a temporary view for Showing distribution\n",
    "Spark_data.createOrReplaceTempView(\"tble_view2017\")\n",
    "\n",
    "Distribution_on_years= Spark.sql(\"SELECT year(Issue_Date) as year,month(Issue_Date) as month,count(*) as Ticket_Frequency FROM tble_view2017 GROUP BY year(Issue_Date),month(Issue_Date) order by Ticket_Frequency desc\")\n",
    "Distribution_on_years.show()"
   ]
  },
  {
   "cell_type": "markdown",
   "metadata": {},
   "source": [
    "From above it show maxm no of violations are in the month of May and observed that from july to December, there is a significant drop in n ."
   ]
  },
  {
   "cell_type": "code",
   "execution_count": 28,
   "metadata": {},
   "outputs": [],
   "source": [
    "Number_of_Violations_by_month = Distribution_on_years.toPandas()"
   ]
  },
  {
   "cell_type": "code",
   "execution_count": 29,
   "metadata": {},
   "outputs": [
    {
     "data": {
      "text/plain": [
       "<Figure size 432x288 with 0 Axes>"
      ]
     },
     "metadata": {},
     "output_type": "display_data"
    },
    {
     "data": {
      "image/png": "[encoded data removed]",
      "text/plain": [
       "<Figure size 432x288 with 1 Axes>"
      ]
     },
     "metadata": {},
     "output_type": "display_data"
    }
   ],
   "source": [
    "import pandas as pd\n",
    "import matplotlib.pyplot as plt\n",
    "plt.clf()\n",
    "Number_of_Violations_by_month.plot(x= 'month', y='Ticket_Frequency', kind='bar')\n",
    "plt.title(\"Violations on the basis of month in 2017\")\n",
    "plt.xlabel('month')\n",
    "plt.ylabel('Ticket_Frequency')\n",
    "plt.show()"
   ]
  },
  {
   "cell_type": "code",
   "execution_count": 30,
   "metadata": {},
   "outputs": [
    {
     "name": "stdout",
     "output_type": "stream",
     "text": [
      "+---------------------+\n",
      "|Number_of_Null_Values|\n",
      "+---------------------+\n",
      "|                    0|\n",
      "+---------------------+\n",
      "\n"
     ]
    }
   ],
   "source": [
    "Checking_null_values=Spark.sql(\"Select count(*) as Number_of_Null_Values from tble_view2017 where Summons_Number is NULL or Plate_ID is NULL or Registration_State is NULL or Issue_Date is NULL or Violation_Code is NULL or Vehicle_Body_Type is NULL or Vehicle_Make is NULL or Violation_Precinct is NULL or Issuer_Precinct is NUll or Violation_Time is NULL \")\n",
    "Checking_null_values.show()"
   ]
  },
  {
   "cell_type": "code",
   "execution_count": 31,
   "metadata": {},
   "outputs": [
    {
     "name": "stdout",
     "output_type": "stream",
     "text": [
      "+----------+----------------+\n",
      "|  Plate_ID|Ticket_Frequency|\n",
      "+----------+----------------+\n",
      "|BLANKPLATE|            5261|\n",
      "|   96089MA|             529|\n",
      "|   96087MA|             528|\n",
      "|   94905JA|             527|\n",
      "|   14828MJ|             526|\n",
      "|   85848MD|             512|\n",
      "|   30954JX|             510|\n",
      "|   2121796|             507|\n",
      "|   16242TC|             496|\n",
      "|   2194153|             495|\n",
      "|   77116MA|             493|\n",
      "|   47603MD|             492|\n",
      "|   12359MG|             474|\n",
      "|   16208TC|             468|\n",
      "|   49731MA|             464|\n",
      "|   14829MJ|             460|\n",
      "|    XEEF98|             458|\n",
      "|   49331KA|             458|\n",
      "|   2028685|             454|\n",
      "|   66103JR|             452|\n",
      "+----------+----------------+\n",
      "only showing top 20 rows\n",
      "\n"
     ]
    }
   ],
   "source": [
    "#Checking on Plate_ID field to know if there are cases with same plate id.\n",
    "\n",
    "Plate_Id_Check=Spark.sql(\"Select Plate_ID, count(*) as Ticket_Frequency from tble_view2017 group by Plate_ID having count(*)>1 order by Ticket_Frequency desc\")\n",
    "Plate_Id_Check.show()"
   ]
  },
  {
   "cell_type": "markdown",
   "metadata": {},
   "source": [
    "### There is one value'BLANKPLATE' which we cannot track. Therefore, we can remove this."
   ]
  },
  {
   "cell_type": "code",
   "execution_count": 32,
   "metadata": {},
   "outputs": [
    {
     "data": {
      "text/plain": [
       "5426657"
      ]
     },
     "execution_count": 32,
     "metadata": {},
     "output_type": "execute_result"
    }
   ],
   "source": [
    "Spark_data=Spark_data[Spark_data.Plate_ID!='BLANKPLATE']\n",
    "Spark_data.count()"
   ]
  },
  {
   "cell_type": "code",
   "execution_count": 33,
   "metadata": {},
   "outputs": [],
   "source": [
    "# Create a temporary view for check createOrReplaceTempView(\"tble_view2017\") .\n",
    "Spark_data.createOrReplaceTempView(\"tble_view2017\")"
   ]
  },
  {
   "cell_type": "code",
   "execution_count": 34,
   "metadata": {},
   "outputs": [
    {
     "name": "stdout",
     "output_type": "stream",
     "text": [
      "+--------+----------------+\n",
      "|Plate_ID|Ticket_Frequency|\n",
      "+--------+----------------+\n",
      "| 96089MA|             529|\n",
      "| 96087MA|             528|\n",
      "| 94905JA|             527|\n",
      "| 14828MJ|             526|\n",
      "| 85848MD|             512|\n",
      "| 30954JX|             510|\n",
      "| 2121796|             507|\n",
      "+--------+----------------+\n",
      "\n"
     ]
    }
   ],
   "source": [
    "# Check the number of which is more than 500 .\n",
    "Plate_Id_Above_500=Spark.sql(\"Select Plate_ID, count(*) as Ticket_Frequency from tble_view2017 group by Plate_ID having count(*)>=500 order by Ticket_Frequency desc\")\n",
    "Plate_Id_Above_500.show()"
   ]
  },
  {
   "cell_type": "code",
   "execution_count": 35,
   "metadata": {},
   "outputs": [
    {
     "data": {
      "text/plain": [
       "<Figure size 432x288 with 0 Axes>"
      ]
     },
     "metadata": {},
     "output_type": "display_data"
    },
    {
     "data": {
      "image/png": "[encoded data removed]",
      "text/plain": [
       "<Figure size 432x288 with 1 Axes>"
      ]
     },
     "metadata": {},
     "output_type": "display_data"
    }
   ],
   "source": [
    "# ploting the graph of violation above 500 .\n",
    "Number_of_Violations_By_PlateID=Plate_Id_Above_500.toPandas()\n",
    "plt.clf()\n",
    "Number_of_Violations_By_PlateID.plot(x= 'Plate_ID', y='Ticket_Frequency', kind='bar')\n",
    "plt.title(\"Number of Violations above 500 \")\n",
    "plt.xlabel('ID')\n",
    "plt.ylabel('Ticket_Frequency')\n",
    "plt.show()"
   ]
  },
  {
   "cell_type": "markdown",
   "metadata": {},
   "source": [
    "#### From above there are 7 id which have more than 500 violations."
   ]
  },
  {
   "cell_type": "markdown",
   "metadata": {},
   "source": [
    "# Questions to Be Answered in the Analysis"
   ]
  },
  {
   "cell_type": "markdown",
   "metadata": {},
   "source": [
    "###### The following analysis should be performed on PySpark mounted on your CoreStack cluster, using the PySpark library. Remember that you need to summarise the analysis with your insights along with the code."
   ]
  },
  {
   "cell_type": "markdown",
   "metadata": {},
   "source": [
    "## Examine the data"
   ]
  },
  {
   "cell_type": "markdown",
   "metadata": {},
   "source": [
    "##### Q1. Find the total number of tickets for the year ?"
   ]
  },
  {
   "cell_type": "code",
   "execution_count": 36,
   "metadata": {},
   "outputs": [
    {
     "name": "stdout",
     "output_type": "stream",
     "text": [
      "+--------+------------------------------+\n",
      "|count(1)|count(DISTINCT Summons_Number)|\n",
      "+--------+------------------------------+\n",
      "| 5426657|                       5426657|\n",
      "+--------+------------------------------+\n",
      "\n"
     ]
    }
   ],
   "source": [
    "Ques_1 = Spark.sql(\"Select count(*),count(distinct(Summons_Number)) from tble_view2017\")\n",
    "Ques_1.show()"
   ]
  },
  {
   "cell_type": "markdown",
   "metadata": {},
   "source": [
    "#### The number of distinct Summons_Number is equal to total number of rows in data frame. Means there is no duplicates."
   ]
  },
  {
   "cell_type": "markdown",
   "metadata": {},
   "source": [
    "#### Q2. Find out the number of unique states from where the cars that got parking tickets came from ?"
   ]
  },
  {
   "cell_type": "code",
   "execution_count": 37,
   "metadata": {},
   "outputs": [
    {
     "data": {
      "text/plain": [
       "65"
      ]
     },
     "execution_count": 37,
     "metadata": {},
     "output_type": "execute_result"
    }
   ],
   "source": [
    "Ques_2 = Spark.sql(\"SELECT distinct(Registration_State), Count(*) as Number_of_Records from tble_view2017 group by Registration_State order by Number_of_Records desc\")\n",
    "Ques_2.count()"
   ]
  },
  {
   "cell_type": "code",
   "execution_count": 38,
   "metadata": {},
   "outputs": [
    {
     "name": "stdout",
     "output_type": "stream",
     "text": [
      "+------------------+-----------------+\n",
      "|Registration_State|Number_of_Records|\n",
      "+------------------+-----------------+\n",
      "|                NY|          4273951|\n",
      "|                NJ|           475825|\n",
      "|                PA|           140286|\n",
      "|                CT|            70403|\n",
      "|                FL|            69468|\n",
      "|                IN|            45525|\n",
      "|                MA|            38941|\n",
      "|                VA|            34367|\n",
      "|                MD|            30213|\n",
      "|                NC|            27152|\n",
      "|                TX|            18827|\n",
      "|                IL|            18666|\n",
      "|                GA|            17537|\n",
      "|                AZ|            12379|\n",
      "|                OH|            12281|\n",
      "|                CA|            12153|\n",
      "|                ME|            10806|\n",
      "|                99|            10794|\n",
      "|                SC|            10395|\n",
      "|                MN|            10083|\n",
      "|                OK|             9088|\n",
      "|                TN|             8514|\n",
      "|                DE|             7905|\n",
      "|                MI|             7231|\n",
      "|                RI|             5814|\n",
      "|                NH|             4119|\n",
      "|                VT|             3683|\n",
      "|                AL|             3178|\n",
      "|                WA|             3052|\n",
      "|                OR|             2622|\n",
      "|                MO|             2483|\n",
      "|                ON|             2460|\n",
      "|                WI|             2127|\n",
      "|                QB|             1998|\n",
      "|                IA|             1938|\n",
      "|                DC|             1929|\n",
      "|                CO|             1841|\n",
      "|                KY|             1795|\n",
      "|                DP|             1794|\n",
      "|                LA|             1689|\n",
      "|                MS|             1582|\n",
      "|                WV|             1265|\n",
      "|                AR|              994|\n",
      "|                SD|              859|\n",
      "|                NM|              792|\n",
      "|                ID|              763|\n",
      "|                NV|              725|\n",
      "|                KS|              706|\n",
      "|                NE|              704|\n",
      "|                UT|              561|\n",
      "|                MT|              505|\n",
      "|                GV|              348|\n",
      "|                NS|              322|\n",
      "|                AK|              298|\n",
      "|                ND|              254|\n",
      "|                WY|              188|\n",
      "|                HI|              156|\n",
      "|                AB|               79|\n",
      "|                PE|               61|\n",
      "|                NB|               57|\n",
      "|                BC|               54|\n",
      "|                PR|               38|\n",
      "|                MB|               17|\n",
      "|                SK|                9|\n",
      "|                FO|                8|\n",
      "+------------------+-----------------+\n",
      "\n"
     ]
    }
   ],
   "source": [
    "Ques_2.show(500)"
   ]
  },
  {
   "cell_type": "markdown",
   "metadata": {},
   "source": [
    "#### we have found that there are 65 values of Registration_State.\n"
   ]
  },
  {
   "cell_type": "markdown",
   "metadata": {},
   "source": [
    "There is a numeric entry '99' in the column which should be corrected. We need to replace it with the state having maximum entries.As maximum number of tickets are issued in NY, We will replace 99 by NY."
   ]
  },
  {
   "cell_type": "code",
   "execution_count": 39,
   "metadata": {},
   "outputs": [],
   "source": [
    "Spark_data = Spark_data.withColumn('Registration_State',when(Spark_data[\"Registration_State\"]==\"99\",lit('NY')).otherwise(Spark_data[\"Registration_State\"]))"
   ]
  },
  {
   "cell_type": "code",
   "execution_count": 40,
   "metadata": {},
   "outputs": [],
   "source": [
    "Spark_data.createOrReplaceTempView(\"tble_view2017\")"
   ]
  },
  {
   "cell_type": "code",
   "execution_count": 41,
   "metadata": {},
   "outputs": [
    {
     "data": {
      "text/plain": [
       "64"
      ]
     },
     "execution_count": 41,
     "metadata": {},
     "output_type": "execute_result"
    }
   ],
   "source": [
    "# Now again Check the number of distinct Registration_State.\n",
    "\n",
    "Ques_2=Spark.sql(\"SELECT Registration_State, Count(*) as Ticket_Frequency from tble_view2017 group by Registration_State order by Ticket_Frequency desc\")\n",
    "Ques_2.count()"
   ]
  },
  {
   "cell_type": "markdown",
   "metadata": {},
   "source": [
    "#### In There after replacing 99 to NY we got only 64 distinct values."
   ]
  },
  {
   "cell_type": "code",
   "execution_count": 42,
   "metadata": {},
   "outputs": [],
   "source": [
    "# create a temporary veiw to check.\n",
    "Spark_data.createOrReplaceTempView(\"tble_view2017\")"
   ]
  },
  {
   "cell_type": "code",
   "execution_count": 43,
   "metadata": {},
   "outputs": [
    {
     "data": {
      "text/plain": [
       "<Figure size 7200x14400 with 0 Axes>"
      ]
     },
     "metadata": {},
     "output_type": "display_data"
    },
    {
     "data": {
      "image/png": "[encoded data removed]",
      "text/plain": [
       "<Figure size 432x288 with 1 Axes>"
      ]
     },
     "metadata": {},
     "output_type": "display_data"
    }
   ],
   "source": [
    "# ploting the graph for violation on the basis of Registration State.\n",
    "Ques_2 = Ques_2.toPandas()\n",
    "plt.figure(figsize=(100,200))\n",
    "Ques_2.head(10).plot(x='Registration_State', y='Ticket_Frequency', kind='bar')\n",
    "plt.title(\"Violations on the basis of Registration State (top 10)\")\n",
    "plt.xlabel('Registration State')\n",
    "plt.ylabel('Ticket Frequency')\n",
    "\n",
    "plt.show()"
   ]
  },
  {
   "cell_type": "markdown",
   "metadata": {},
   "source": [
    "### Aggregation tasks"
   ]
  },
  {
   "cell_type": "markdown",
   "metadata": {},
   "source": [
    "#### Q1 - How often does each violation code occur? Display the frequency of the top five violation codes ?"
   ]
  },
  {
   "cell_type": "code",
   "execution_count": 44,
   "metadata": {},
   "outputs": [
    {
     "name": "stdout",
     "output_type": "stream",
     "text": [
      "+------------------------------+\n",
      "|count(DISTINCT Violation_Code)|\n",
      "+------------------------------+\n",
      "|                           100|\n",
      "+------------------------------+\n",
      "\n"
     ]
    }
   ],
   "source": [
    "# Check the Violation Code count .\n",
    "\n",
    "Spark_data.select(countDistinct(\"Violation_Code\")).show()"
   ]
  },
  {
   "cell_type": "code",
   "execution_count": 45,
   "metadata": {},
   "outputs": [
    {
     "name": "stdout",
     "output_type": "stream",
     "text": [
      "+--------------+-------------+\n",
      "|Violation_Code|no_of_tickets|\n",
      "+--------------+-------------+\n",
      "|            21|       767740|\n",
      "|            36|       662765|\n",
      "|            38|       541526|\n",
      "|            14|       476405|\n",
      "|            20|       319439|\n",
      "|            46|       312168|\n",
      "|            37|       293038|\n",
      "|            40|       276905|\n",
      "|            71|       263124|\n",
      "|             7|       210176|\n",
      "|            19|       148978|\n",
      "|            70|       144242|\n",
      "|            69|        96881|\n",
      "|            31|        80528|\n",
      "|            16|        74768|\n",
      "|            47|        65427|\n",
      "|            74|        57388|\n",
      "|            50|        53710|\n",
      "|             5|        48081|\n",
      "|            48|        40970|\n",
      "|            84|        40932|\n",
      "|            24|        38435|\n",
      "|            17|        38430|\n",
      "|            51|        32553|\n",
      "|            42|        32000|\n",
      "|             9|        28670|\n",
      "|            78|        26752|\n",
      "|            10|        25917|\n",
      "|            68|        25029|\n",
      "|            98|        23883|\n",
      "|            53|        19478|\n",
      "|            82|        17284|\n",
      "|            66|        13115|\n",
      "|            13|        11667|\n",
      "|            18|        10185|\n",
      "|            23|         9689|\n",
      "|            85|         9311|\n",
      "|            67|         7359|\n",
      "|            64|         6764|\n",
      "|            45|         6101|\n",
      "|            77|         6080|\n",
      "|            11|         5590|\n",
      "|            61|         5520|\n",
      "|            72|         5516|\n",
      "|            79|         5203|\n",
      "|            83|         5060|\n",
      "|            75|         4334|\n",
      "|            60|         3690|\n",
      "|            27|         3037|\n",
      "|            62|         2809|\n",
      "|            41|         2608|\n",
      "|            89|         2325|\n",
      "|            73|         2080|\n",
      "|            80|         2074|\n",
      "|            35|         2033|\n",
      "|             8|         1405|\n",
      "|            99|         1364|\n",
      "|            39|         1177|\n",
      "|            52|         1001|\n",
      "|             1|          674|\n",
      "|            26|          660|\n",
      "|            30|          553|\n",
      "|             4|          521|\n",
      "|            49|          477|\n",
      "|             3|          407|\n",
      "|            91|          401|\n",
      "|            56|          366|\n",
      "|            63|          245|\n",
      "|            94|          199|\n",
      "|             6|          190|\n",
      "|            43|          174|\n",
      "|            59|          132|\n",
      "|            25|          115|\n",
      "|             0|          103|\n",
      "|            55|           88|\n",
      "|            95|           87|\n",
      "|            22|           81|\n",
      "|             2|           77|\n",
      "|            12|           53|\n",
      "|            97|           47|\n",
      "|            96|           41|\n",
      "|            29|           35|\n",
      "|            33|           28|\n",
      "|            90|           26|\n",
      "|            65|           24|\n",
      "|            92|           19|\n",
      "|            76|           16|\n",
      "|            32|           14|\n",
      "|            81|           14|\n",
      "|            58|           13|\n",
      "|            34|           11|\n",
      "|            88|           10|\n",
      "|            93|            8|\n",
      "|            15|            7|\n",
      "|            86|            6|\n",
      "|            28|            5|\n",
      "|            44|            4|\n",
      "|            57|            3|\n",
      "|            54|            3|\n",
      "|            87|            1|\n",
      "+--------------+-------------+\n",
      "\n"
     ]
    }
   ],
   "source": [
    "# check the frequency of each violation code occurs. \n",
    "Violation_Code_count = Spark_data.select(\"Violation_Code\")\\\n",
    ".groupBy(\"Violation_Code\")\\\n",
    ".agg(count(\"Violation_Code\")\\\n",
    ".alias(\"no_of_tickets\"))\\\n",
    ".sort(desc(\"no_of_tickets\"))\n",
    "\n",
    "Violation_Code_count.show(100)"
   ]
  },
  {
   "cell_type": "code",
   "execution_count": 46,
   "metadata": {},
   "outputs": [
    {
     "name": "stdout",
     "output_type": "stream",
     "text": [
      "+--------------+----------------+\n",
      "|Violation_Code|Ticket_Frequency|\n",
      "+--------------+----------------+\n",
      "|            21|          767740|\n",
      "|            36|          662765|\n",
      "|            38|          541526|\n",
      "|            14|          476405|\n",
      "|            20|          319439|\n",
      "+--------------+----------------+\n",
      "only showing top 5 rows\n",
      "\n"
     ]
    }
   ],
   "source": [
    "# Get top 5 from the above .\n",
    "Ques_4 = Spark.sql(\"SELECT Violation_Code, Count(*) as Ticket_Frequency from tble_view2017 group by Violation_code order by Ticket_Frequency desc\")\n",
    "Ques_4.show(5)"
   ]
  },
  {
   "cell_type": "code",
   "execution_count": 47,
   "metadata": {},
   "outputs": [
    {
     "data": {
      "text/plain": [
       "<Figure size 432x288 with 0 Axes>"
      ]
     },
     "metadata": {},
     "output_type": "display_data"
    },
    {
     "data": {
      "image/png": "[encoded data removed]",
      "text/plain": [
       "<Figure size 432x288 with 1 Axes>"
      ]
     },
     "metadata": {},
     "output_type": "display_data"
    }
   ],
   "source": [
    "# ploting the graph of top 5 which we get above .\n",
    "Ques_4_for_plot = Ques_4.toPandas()\n",
    "plt.clf()\n",
    "Ques_4_for_plot.head(5).plot(x='Violation_Code', y='Ticket_Frequency', kind='bar')\n",
    "plt.title(\"Top Violation Code\")\n",
    "plt.xlabel('Violation Code')\n",
    "plt.ylabel('Ticket Frequency')\n",
    "plt.show()"
   ]
  },
  {
   "cell_type": "markdown",
   "metadata": {},
   "source": [
    "### Q2 How often does each 'vehicle body type' get a parking ticket? How about the 'vehicle make'?"
   ]
  },
  {
   "cell_type": "code",
   "execution_count": 48,
   "metadata": {},
   "outputs": [
    {
     "name": "stdout",
     "output_type": "stream",
     "text": [
      "+-----------------+----------------+\n",
      "|Vehicle_Body_Type|Ticket_Frequency|\n",
      "+-----------------+----------------+\n",
      "|             SUBN|         1882978|\n",
      "|             4DSD|         1547063|\n",
      "|              VAN|          723796|\n",
      "|             DELV|          358924|\n",
      "|              SDN|          192927|\n",
      "+-----------------+----------------+\n",
      "only showing top 5 rows\n",
      "\n"
     ]
    }
   ],
   "source": [
    "# check each vachile body type and and ticket frequency .\n",
    "vehicleBodyType = Spark.sql(\"SELECT Vehicle_Body_Type, count(*) as Ticket_Frequency from tble_view2017 group by Vehicle_Body_Type order by Ticket_Frequency desc\")\n",
    "vehicleBodyType.show(5)"
   ]
  },
  {
   "cell_type": "code",
   "execution_count": 49,
   "metadata": {},
   "outputs": [
    {
     "data": {
      "text/plain": [
       "<Figure size 432x288 with 0 Axes>"
      ]
     },
     "metadata": {},
     "output_type": "display_data"
    },
    {
     "data": {
      "image/png": "[encoded data removed]",
      "text/plain": [
       "<Figure size 432x288 with 1 Axes>"
      ]
     },
     "metadata": {},
     "output_type": "display_data"
    }
   ],
   "source": [
    "# Plot the graph of vachile body type and and ticket frequency .\n",
    "vehicleBodyType_for_plot = vehicleBodyType.toPandas()\n",
    "plt.clf()\n",
    "vehicleBodyType_for_plot.head(5).plot(x='Vehicle_Body_Type', y='Ticket_Frequency', kind='bar')\n",
    "plt.title(\"Violations on the basis of Vehicle_Body_Type\")\n",
    "plt.xlabel('Vehicle Body Type')\n",
    "plt.ylabel('Ticket Frequency')\n",
    "plt.show()"
   ]
  },
  {
   "cell_type": "code",
   "execution_count": 50,
   "metadata": {},
   "outputs": [
    {
     "name": "stdout",
     "output_type": "stream",
     "text": [
      "+------------+----------------+\n",
      "|Vehicle_Make|Ticket_Frequency|\n",
      "+------------+----------------+\n",
      "|        FORD|          636527|\n",
      "|       TOYOT|          605011|\n",
      "|       HONDA|          538460|\n",
      "|       NISSA|          461725|\n",
      "|       CHEVR|          355868|\n",
      "+------------+----------------+\n",
      "only showing top 5 rows\n",
      "\n"
     ]
    }
   ],
   "source": [
    "# Check the vehicle make\n",
    "\n",
    "vehicleMake = Spark.sql(\"SELECT Vehicle_Make, count(*) as Ticket_Frequency from tble_view2017 group by Vehicle_Make order by Ticket_Frequency desc\")\n",
    "vehicleMake.show(5)"
   ]
  },
  {
   "cell_type": "code",
   "execution_count": 51,
   "metadata": {},
   "outputs": [
    {
     "data": {
      "text/plain": [
       "<Figure size 432x288 with 0 Axes>"
      ]
     },
     "metadata": {},
     "output_type": "display_data"
    },
    {
     "data": {
      "image/png": "[encoded data removed]",
      "text/plain": [
       "<Figure size 432x288 with 1 Axes>"
      ]
     },
     "metadata": {},
     "output_type": "display_data"
    }
   ],
   "source": [
    "# Plot the graph of vehicle make and Ticket_Frequency .\n",
    "vehicleMake_for_plot = vehicleMake.toPandas()\n",
    "plt.clf()\n",
    "vehicleMake_for_plot.head(5).plot(x='Vehicle_Make', y='Ticket_Frequency', kind='bar')\n",
    "plt.title(\"Violations on the basis of Vehicle_Make\")\n",
    "plt.xlabel('Vehicle Make')\n",
    "plt.ylabel('Ticket Frequency')\n",
    "plt.show()"
   ]
  },
  {
   "cell_type": "markdown",
   "metadata": {},
   "source": [
    "### Q3 : A precinct is a police station that has a certain zone of the city under its command.Find the (5 highest) frequency of tickets for each of the following:"
   ]
  },
  {
   "cell_type": "markdown",
   "metadata": {},
   "source": [
    "##### 1.'Violation Precinct' (this is the precinct of the zone where the violation occurred). Using this, can you make any insights for parking violations in any specific areas of the city ."
   ]
  },
  {
   "cell_type": "code",
   "execution_count": 52,
   "metadata": {},
   "outputs": [
    {
     "name": "stdout",
     "output_type": "stream",
     "text": [
      "+------------------+----------------+\n",
      "|Violation_Precinct|Ticket_Frequency|\n",
      "+------------------+----------------+\n",
      "|                 0|          925395|\n",
      "|                19|          274264|\n",
      "|                14|          203375|\n",
      "|                 1|          174620|\n",
      "|                18|          169043|\n",
      "|               114|          147223|\n",
      "+------------------+----------------+\n",
      "only showing top 6 rows\n",
      "\n"
     ]
    }
   ],
   "source": [
    "Violation_Precinct = Spark.sql(\"SELECT Violation_Precinct, count(*) as Ticket_Frequency from tble_view2017 group by Violation_Precinct order by Ticket_Frequency desc\")\n",
    "Violation_Precinct.show(6)"
   ]
  },
  {
   "cell_type": "code",
   "execution_count": 53,
   "metadata": {},
   "outputs": [
    {
     "data": {
      "text/plain": [
       "<Figure size 432x288 with 0 Axes>"
      ]
     },
     "metadata": {},
     "output_type": "display_data"
    },
    {
     "data": {
      "image/png": "[encoded data removed]",
      "text/plain": [
       "<Figure size 432x288 with 1 Axes>"
      ]
     },
     "metadata": {},
     "output_type": "display_data"
    }
   ],
   "source": [
    "# Plot the diagram on vehicle predict and Ticket Frequency.\n",
    "Violation_Precinct_for_plot = Violation_Precinct.toPandas()\n",
    "plt.clf()\n",
    "Violation_Precinct_for_plot[Violation_Precinct_for_plot.Violation_Precinct!=0].head(5).plot(x='Violation_Precinct', y='Ticket_Frequency', kind='bar')\n",
    "plt.title(\"Violations on the basis of Violation_Precinct\")\n",
    "plt.xlabel('Vehicle Precinct')\n",
    "plt.ylabel('Ticket Frequency')\n",
    "plt.show()"
   ]
  },
  {
   "cell_type": "markdown",
   "metadata": {},
   "source": [
    "##### 'Issuer Precinct' (This is the precinct that issued the ticket.)"
   ]
  },
  {
   "cell_type": "markdown",
   "metadata": {},
   "source": [
    "Here, you would have noticed that the dataframe has the'Violating Precinct' or 'Issuing Precinct' as '0'. These are erroneous entries. Hence, you need to provide the records for five correct precincts. (Hint: Print the top six entries after sorting.)"
   ]
  },
  {
   "cell_type": "code",
   "execution_count": 54,
   "metadata": {},
   "outputs": [
    {
     "name": "stdout",
     "output_type": "stream",
     "text": [
      "+---------------+----------------+\n",
      "|Issuer_Precinct|Ticket_Frequency|\n",
      "+---------------+----------------+\n",
      "|              0|         1077884|\n",
      "|             19|          266790|\n",
      "|             14|          200328|\n",
      "|              1|          168630|\n",
      "|             18|          162908|\n",
      "+---------------+----------------+\n",
      "only showing top 5 rows\n",
      "\n"
     ]
    }
   ],
   "source": [
    "Issue_precinct = Spark.sql(\"SELECT Issuer_Precinct, count(*) as Ticket_Frequency from tble_view2017 group by Issuer_Precinct order by Ticket_Frequency desc\")  \n",
    "Issue_precinct.show(5)"
   ]
  },
  {
   "cell_type": "code",
   "execution_count": 55,
   "metadata": {},
   "outputs": [
    {
     "data": {
      "text/plain": [
       "<Figure size 432x288 with 0 Axes>"
      ]
     },
     "metadata": {},
     "output_type": "display_data"
    },
    {
     "data": {
      "image/png": "[encoded data removed]",
      "text/plain": [
       "<Figure size 432x288 with 1 Axes>"
      ]
     },
     "metadata": {},
     "output_type": "display_data"
    }
   ],
   "source": [
    "# Plot the diagram between Issuer_Precinct and Ticket_Frequency\n",
    "Issue_Precinct_for_plot = Issue_precinct.toPandas()\n",
    "plt.clf()\n",
    "Issue_Precinct_for_plot[Issue_Precinct_for_plot.Issuer_Precinct!=0].head(5).plot(x='Issuer_Precinct', y='Ticket_Frequency', kind='bar')\n",
    "plt.title(\"Violations on the basis of Issuer Precinct TOP 5\")\n",
    "plt.xlabel('Issuer Precinct')\n",
    "plt.ylabel('Ticket Frequency')\n",
    "plt.show()"
   ]
  },
  {
   "cell_type": "markdown",
   "metadata": {},
   "source": [
    "#### Q4. Find the violation code frequency across three precincts which have issued the most number of tickets.Do these precinct zones have an exceptionally high frequency of certain violation codes? Are these codes common across precincts? Hint: In the SQL view, use the 'where' attribute to filter among three precincts"
   ]
  },
  {
   "cell_type": "markdown",
   "metadata": {},
   "source": [
    "##### 4.1 Finding violation code frequency"
   ]
  },
  {
   "cell_type": "code",
   "execution_count": 56,
   "metadata": {},
   "outputs": [
    {
     "name": "stdout",
     "output_type": "stream",
     "text": [
      "+---------------+--------------+---------+\n",
      "|Issuer_Precinct|Violation_Code|Frequency|\n",
      "+---------------+--------------+---------+\n",
      "|              0|            36|   662765|\n",
      "|              0|             7|   210175|\n",
      "|              0|            21|   125923|\n",
      "|             18|            14|    50135|\n",
      "|             19|            46|    48422|\n",
      "|              0|             5|    48076|\n",
      "|             14|            14|    45019|\n",
      "+---------------+--------------+---------+\n",
      "only showing top 7 rows\n",
      "\n"
     ]
    }
   ],
   "source": [
    "violation_code_freq = Spark.sql(\"select Issuer_Precinct,Violation_Code, count(*) as Frequency from tble_view2017 group by Issuer_Precinct, Violation_Code order by Frequency desc\" )\n",
    "violation_code_freq.show(7)"
   ]
  },
  {
   "cell_type": "markdown",
   "metadata": {},
   "source": [
    "##### We are not considering 0. Therefore 18,19,14 are the three issuer precincts with maximum number of violations."
   ]
  },
  {
   "cell_type": "code",
   "execution_count": 57,
   "metadata": {},
   "outputs": [
    {
     "name": "stdout",
     "output_type": "stream",
     "text": [
      "+--------------+---------+\n",
      "|Violation_Code|Frequency|\n",
      "+--------------+---------+\n",
      "|            14|    50135|\n",
      "|            69|    20188|\n",
      "|            47|    14105|\n",
      "|            31|    11887|\n",
      "|            46|     7861|\n",
      "|            42|     6189|\n",
      "|            38|     6157|\n",
      "|            84|     5188|\n",
      "|            19|     4580|\n",
      "|            20|     4109|\n",
      "+--------------+---------+\n",
      "only showing top 10 rows\n",
      "\n"
     ]
    }
   ],
   "source": [
    "# Check issuer precinct one by one. \n",
    "# check issuer precinct 18 here\n",
    "violation_code_freq_18 = Spark.sql(\"select Violation_Code, count(*) as Frequency from tble_view2017 where Issuer_Precinct=18 group by Violation_Code order by Frequency desc\" )\n",
    "violation_code_freq_18.show(10)"
   ]
  },
  {
   "cell_type": "code",
   "execution_count": 58,
   "metadata": {},
   "outputs": [
    {
     "name": "stdout",
     "output_type": "stream",
     "text": [
      "+--------------+---------+\n",
      "|Violation_Code|Frequency|\n",
      "+--------------+---------+\n",
      "|            46|    48422|\n",
      "|            38|    36332|\n",
      "|            37|    36046|\n",
      "|            14|    29791|\n",
      "|            21|    28409|\n",
      "|            20|    14624|\n",
      "|            40|    11408|\n",
      "|            16|     9921|\n",
      "|            71|     7489|\n",
      "|            19|     6854|\n",
      "+--------------+---------+\n",
      "only showing top 10 rows\n",
      "\n"
     ]
    }
   ],
   "source": [
    "# check issuer precinct 19 here\n",
    "violation_code_freq_19 = Spark.sql(\"select Violation_Code, count(*) as Frequency from tble_view2017 where Issuer_Precinct=19 group by Violation_Code order by Frequency desc\" )\n",
    "violation_code_freq_19.show(10)"
   ]
  },
  {
   "cell_type": "code",
   "execution_count": 59,
   "metadata": {},
   "outputs": [
    {
     "name": "stdout",
     "output_type": "stream",
     "text": [
      "+--------------+---------+\n",
      "|Violation_Code|Frequency|\n",
      "+--------------+---------+\n",
      "|            14|    45019|\n",
      "|            69|    30453|\n",
      "|            31|    22528|\n",
      "|            47|    18357|\n",
      "|            42|    10022|\n",
      "|            46|     7675|\n",
      "|            19|     7031|\n",
      "|            84|     6739|\n",
      "|            82|     5052|\n",
      "|            40|     3581|\n",
      "+--------------+---------+\n",
      "only showing top 10 rows\n",
      "\n"
     ]
    }
   ],
   "source": [
    "# check issuer precinct 14 here\n",
    "violation_code_freq_14 = Spark.sql(\"select Violation_Code, count(*) as Frequency from tble_view2017 where Issuer_Precinct=14 group by Violation_Code order by Frequency desc\" )\n",
    "violation_code_freq_14.show(10)"
   ]
  },
  {
   "cell_type": "markdown",
   "metadata": {},
   "source": [
    "#### 4.2 Common codes across precincts"
   ]
  },
  {
   "cell_type": "code",
   "execution_count": 60,
   "metadata": {},
   "outputs": [
    {
     "name": "stdout",
     "output_type": "stream",
     "text": [
      "+--------------+---------+\n",
      "|Violation_Code|Frequency|\n",
      "+--------------+---------+\n",
      "|            14|   124945|\n",
      "|            46|    63958|\n",
      "|            69|    53549|\n",
      "|            38|    45721|\n",
      "|            37|    39537|\n",
      "+--------------+---------+\n",
      "only showing top 5 rows\n",
      "\n"
     ]
    }
   ],
   "source": [
    "common_codes =Spark.sql(\"select Violation_Code, count(*) as Frequency from tble_view2017 where Issuer_Precinct in (18,19,14) group by Violation_Code order by Frequency desc\")\n",
    "common_codes.show(5)"
   ]
  },
  {
   "cell_type": "markdown",
   "metadata": {},
   "source": [
    "#### Comments ,\n",
    "In Precinct 18 and precinct 14 has more less similar top violation code.And In precinct 19 has very different top violation code ."
   ]
  },
  {
   "cell_type": "markdown",
   "metadata": {},
   "source": [
    "### Q5.Find out the properties of parking violations across different times of the day"
   ]
  },
  {
   "cell_type": "markdown",
   "metadata": {},
   "source": [
    " 1. -> Find a way to deal with missing values, if any. (Hint: Check for the null values using 'isNull' under the SQL. Also, to remove the null values, check the 'dropna' command in the API documentation.)\n",
    " \n",
    " 2. -> The Violation Time field is specified in a strange format. Find a way to make this a time attribute that you can use to divide into groups.\n",
    " \n",
    " 3. -> Divide 24 hours into six equal discrete bins of time. Choose the intervals as you see fit. For each of these groups, find the three most commonly occurring violations. (Hint: Use the CASE-WHEN in SQL view to segregate into bins. To find the most commonly occurring violations, you can use an approach similar to the one mentioned in the hint for question 4.)\n",
    " \n",
    " 4. -> Now, try another direction. For the three most commonly occurring violation codes, find the most common time of the day (in terms of the bins from the previous part)."
   ]
  },
  {
   "cell_type": "code",
   "execution_count": 61,
   "metadata": {},
   "outputs": [
    {
     "name": "stdout",
     "output_type": "stream",
     "text": [
      "+------------------+\n",
      "|No_of_Count_Values|\n",
      "+------------------+\n",
      "|                 0|\n",
      "+------------------+\n",
      "\n"
     ]
    }
   ],
   "source": [
    "# Find the number of missing values .\n",
    "null_vltime_2017 = Spark.sql(\"SELECT count(*) as No_of_Count_Values from tble_view2017 WHERE Violation_Time is NULL\")\n",
    "null_vltime_2017.show()"
   ]
  },
  {
   "cell_type": "code",
   "execution_count": 62,
   "metadata": {},
   "outputs": [
    {
     "name": "stdout",
     "output_type": "stream",
     "text": [
      "+--------------+--------+------------------+----------+--------------+-----------------+------------+------------------+---------------+--------------+\n",
      "|Summons_Number|Plate_ID|Registration_State|Issue_Date|Violation_Code|Vehicle_Body_Type|Vehicle_Make|Violation_Precinct|Issuer_Precinct|Violation_Time|\n",
      "+--------------+--------+------------------+----------+--------------+-----------------+------------+------------------+---------------+--------------+\n",
      "+--------------+--------+------------------+----------+--------------+-----------------+------------+------------------+---------------+--------------+\n",
      "\n"
     ]
    }
   ],
   "source": [
    "# If any null value than check the col\n",
    "\n",
    "Spark_data.where(col(\"Violation_Time\").isNull()).show()"
   ]
  },
  {
   "cell_type": "code",
   "execution_count": 63,
   "metadata": {},
   "outputs": [
    {
     "name": "stdout",
     "output_type": "stream",
     "text": [
      "+--------------+\n",
      "|Violation_Time|\n",
      "+--------------+\n",
      "|         0710A|\n",
      "|         0826A|\n",
      "|         0133P|\n",
      "|         1220P|\n",
      "|         0321P|\n",
      "|         1025A|\n",
      "|         1130A|\n",
      "|         0125P|\n",
      "|         0114P|\n",
      "|         0843A|\n",
      "|         0424P|\n",
      "|         0848A|\n",
      "|         0839A|\n",
      "|         0819P|\n",
      "|         1226P|\n",
      "|         0750A|\n",
      "|         0413P|\n",
      "|         0620P|\n",
      "|         0553A|\n",
      "|         1142A|\n",
      "+--------------+\n",
      "only showing top 20 rows\n",
      "\n"
     ]
    }
   ],
   "source": [
    "Spark_data.select('Violation_Time').show()"
   ]
  },
  {
   "cell_type": "code",
   "execution_count": 64,
   "metadata": {},
   "outputs": [
    {
     "name": "stdout",
     "output_type": "stream",
     "text": [
      "+--------------+--------------+--------------+---------------+------------------+\n",
      "|Summons_Number|Violation_Code|Violation_Time|Issuer_Precinct|Violation_Time_bin|\n",
      "+--------------+--------------+--------------+---------------+------------------+\n",
      "|    8357020756|            21|         0136A|            113|                 1|\n",
      "|    7036629370|            21|         1106A|            104|                 3|\n",
      "|    8511110940|            19|         1101A|             33|                 3|\n",
      "|    4630265570|            36|         1232P|              0|                 4|\n",
      "|    8531010731|            21|         1152A|             40|                 3|\n",
      "|    8484879719|            14|         0813A|             14|                 3|\n",
      "|    8431043428|            71|         0412P|             26|                 5|\n",
      "|    8518306905|            84|         0355P|             30|                 4|\n",
      "|    8525217852|            21|         0938A|             44|                 3|\n",
      "|    8501400233|            10|         0855A|             18|                 3|\n",
      "|    4632462391|            36|         1220P|              0|                 4|\n",
      "|    1411599354|            78|         0215A|             72|                 1|\n",
      "|    8561509090|            37|         0108P|            105|                 4|\n",
      "|    5096424431|             7|         1103P|              0|                 6|\n",
      "|    8552103618|            40|         1111A|            110|                 3|\n",
      "|    8378557388|            20|         0844P|             48|                 6|\n",
      "|    8524681354|            21|         0913A|             42|                 3|\n",
      "|    5096303895|             7|         1155A|              0|                 3|\n",
      "|    8530111862|            37|         1243P|             52|                 4|\n",
      "|    8485852114|            89|         0842A|             14|                 3|\n",
      "+--------------+--------------+--------------+---------------+------------------+\n",
      "only showing top 20 rows\n",
      "\n"
     ]
    }
   ],
   "source": [
    "# Divide 24 hours into six equal parts.\n",
    "bins=Spark.sql(\"SELECT Summons_Number, Violation_Code , Violation_Time, Issuer_Precinct, case when substring(Violation_Time,1,2) in ('00','01','02','03','12') and upper(substring(Violation_Time,-1))='A' then 1 when substring(Violation_Time,1,2) in ('04','05','06','07') and upper(substring(Violation_Time,-1))='A' then 2 when substring(Violation_Time,1,2) in ('08','09','10','11') and upper(substring(Violation_Time,-1))='A' then 3 when substring(Violation_Time,1,2) in ('12','00','01','02','03') and upper(substring(Violation_Time,-1))='P' then 4 when substring(Violation_Time,1,2) in ('04','05','06','07') and upper(substring(Violation_Time,-1))='P' then 5 when substring(Violation_Time,1,2) in ('08','09','10','11') and upper(substring(Violation_Time,-1))='P' then 6 else null end as Violation_Time_bin from tble_view2017 where Violation_Time is not null or (length(Violation_Time)=5 and upper(substring(Violation_Time,-1)) in ('A','P') and substring(Violation_Time,1,2) in ('00','01','02','03','04','05','06','07', '08','09','10','11','12'))\")\n",
    "bins.show()"
   ]
  },
  {
   "cell_type": "code",
   "execution_count": 65,
   "metadata": {},
   "outputs": [],
   "source": [
    "bins.createOrReplaceTempView(\"bins_tbl\")"
   ]
  },
  {
   "cell_type": "code",
   "execution_count": 66,
   "metadata": {},
   "outputs": [
    {
     "name": "stdout",
     "output_type": "stream",
     "text": [
      "+--------------+------------------+------+\n",
      "|Violation_Code|Violation_Time_bin| count|\n",
      "+--------------+------------------+------+\n",
      "|            71|                 4|103156|\n",
      "|            92|                 2|     1|\n",
      "|            10|                 2|  3164|\n",
      "|            48|                 6|   620|\n",
      "|            41|                 3|   950|\n",
      "|            23|                 6|   691|\n",
      "|            62|                 1|   278|\n",
      "|            69|                 1|     1|\n",
      "|            16|                 3| 28163|\n",
      "|            17|                 1|   995|\n",
      "|            17|                 2|  4277|\n",
      "|            83|                 6|   251|\n",
      "|            91|                 6|    33|\n",
      "|            34|                 5|     1|\n",
      "|            73|                 4|   738|\n",
      "|            45|                 4|  1223|\n",
      "|            79|                 1|    21|\n",
      "|            58|                 1|     3|\n",
      "|            80|                 3|   887|\n",
      "|             6|                 1|    86|\n",
      "+--------------+------------------+------+\n",
      "only showing top 20 rows\n",
      "\n"
     ]
    }
   ],
   "source": [
    "# Count the violation_code_time_count.\n",
    "violation_code_time_count = Spark.sql(\"SELECT Violation_Code,Violation_Time_bin, count(*) count from bins_tbl group by Violation_Code,Violation_Time_bin\")\n",
    "violation_code_time_count.show()"
   ]
  },
  {
   "cell_type": "code",
   "execution_count": 67,
   "metadata": {},
   "outputs": [
    {
     "name": "stdout",
     "output_type": "stream",
     "text": [
      "+--------------+-------+\n",
      "|Violation_Code|Vio_cnt|\n",
      "+--------------+-------+\n",
      "|            21|  36934|\n",
      "|            40|  25810|\n",
      "|            78|  15513|\n",
      "+--------------+-------+\n",
      "only showing top 3 rows\n",
      "\n"
     ]
    }
   ],
   "source": [
    "# Check bin_1 \n",
    "bin_1 = Spark.sql(\"select Violation_Code,count(*) Vio_cnt from bins_tbl where Violation_Time_bin == 1 group by Violation_Code order by Vio_cnt desc\")\n",
    "bin_1.show(3)"
   ]
  },
  {
   "cell_type": "code",
   "execution_count": 68,
   "metadata": {},
   "outputs": [
    {
     "name": "stdout",
     "output_type": "stream",
     "text": [
      "+--------------+-------+\n",
      "|Violation_Code|Vio_cnt|\n",
      "+--------------+-------+\n",
      "|            14|  74095|\n",
      "|            40|  60609|\n",
      "|            21|  57876|\n",
      "+--------------+-------+\n",
      "only showing top 3 rows\n",
      "\n"
     ]
    }
   ],
   "source": [
    "# Check bin_2\n",
    "bin_2 = Spark.sql(\"select Violation_Code,count(*) Vio_cnt from bins_tbl where Violation_Time_bin == 2 group by Violation_Code order by Vio_cnt desc\")\n",
    "bin_2.show(3)"
   ]
  },
  {
   "cell_type": "code",
   "execution_count": 69,
   "metadata": {},
   "outputs": [
    {
     "name": "stdout",
     "output_type": "stream",
     "text": [
      "+--------------+-------+\n",
      "|Violation_Code|Vio_cnt|\n",
      "+--------------+-------+\n",
      "|            21| 597827|\n",
      "|            36| 348165|\n",
      "|            38| 176310|\n",
      "+--------------+-------+\n",
      "only showing top 3 rows\n",
      "\n"
     ]
    }
   ],
   "source": [
    "# Check bin_3 .\n",
    "bin_3 = Spark.sql(\"select Violation_Code,count(*) Vio_cnt from bins_tbl where Violation_Time_bin == 3 group by Violation_Code order by Vio_cnt desc\")\n",
    "bin_3.show(3)"
   ]
  },
  {
   "cell_type": "code",
   "execution_count": 70,
   "metadata": {},
   "outputs": [
    {
     "name": "stdout",
     "output_type": "stream",
     "text": [
      "+--------------+-------+\n",
      "|Violation_Code|Vio_cnt|\n",
      "+--------------+-------+\n",
      "|            36| 286284|\n",
      "|            38| 240511|\n",
      "|            37| 166969|\n",
      "+--------------+-------+\n",
      "only showing top 3 rows\n",
      "\n"
     ]
    }
   ],
   "source": [
    "# Check bin_4 .\n",
    "bin_4 = Spark.sql(\"select Violation_Code,count(*) Vio_cnt from bins_tbl where Violation_Time_bin == 4 group by Violation_Code order by Vio_cnt desc\")\n",
    "bin_4.show(3)"
   ]
  },
  {
   "cell_type": "code",
   "execution_count": 71,
   "metadata": {},
   "outputs": [
    {
     "name": "stdout",
     "output_type": "stream",
     "text": [
      "+--------------+-------+\n",
      "|Violation_Code|Vio_cnt|\n",
      "+--------------+-------+\n",
      "|            38| 102784|\n",
      "|            14|  75856|\n",
      "|            37|  70317|\n",
      "+--------------+-------+\n",
      "only showing top 3 rows\n",
      "\n"
     ]
    }
   ],
   "source": [
    "# Check bin_5 .\n",
    "bin_5 = Spark.sql(\"select Violation_Code,count(*) Vio_cnt from bins_tbl where Violation_Time_bin == 5 group by Violation_Code order by Vio_cnt desc\")\n",
    "bin_5.show(3)"
   ]
  },
  {
   "cell_type": "code",
   "execution_count": 72,
   "metadata": {},
   "outputs": [
    {
     "name": "stdout",
     "output_type": "stream",
     "text": [
      "+--------------+-------+\n",
      "|Violation_Code|Vio_cnt|\n",
      "+--------------+-------+\n",
      "|             7|  26293|\n",
      "|            40|  22301|\n",
      "|            14|  21026|\n",
      "+--------------+-------+\n",
      "only showing top 3 rows\n",
      "\n"
     ]
    }
   ],
   "source": [
    "# Check bin_6 .\n",
    "bin_6 = Spark.sql(\"select Violation_Code,count(*) Vio_cnt from bins_tbl where Violation_Time_bin == 6 group by Violation_Code order by Vio_cnt desc\")\n",
    "bin_6.show(3)"
   ]
  },
  {
   "cell_type": "markdown",
   "metadata": {},
   "source": [
    "#### Now, try another direction. For the three most commonly occurring violation codes, find the most common time of the day (in     terms of the bins from the previous part)."
   ]
  },
  {
   "cell_type": "code",
   "execution_count": 73,
   "metadata": {},
   "outputs": [
    {
     "name": "stdout",
     "output_type": "stream",
     "text": [
      "+------------------+---------+\n",
      "|Violation_Time_bin|Vio_count|\n",
      "+------------------+---------+\n",
      "|                 3|  1122302|\n",
      "|                 4|   601432|\n",
      "|                 5|   116574|\n",
      "+------------------+---------+\n",
      "only showing top 3 rows\n",
      "\n"
     ]
    }
   ],
   "source": [
    "Checked_time_bin = Spark.sql(\"select Violation_Time_bin, count(*) Vio_count from bins_tbl where Violation_Code in (21, 36, 38) group by Violation_Time_bin order by Vio_count desc\")\n",
    "Checked_time_bin.show(3)"
   ]
  },
  {
   "cell_type": "markdown",
   "metadata": {},
   "source": [
    "#### From The above bins 3, 4, 5 are having most violations"
   ]
  },
  {
   "cell_type": "markdown",
   "metadata": {},
   "source": [
    "The obvious reason could be, In day time significantly more vehicles were running and hence more violations . "
   ]
  },
  {
   "cell_type": "markdown",
   "metadata": {},
   "source": [
    "## Q6.Let’s try and find some seasonality in this data:"
   ]
  },
  {
   "cell_type": "markdown",
   "metadata": {},
   "source": [
    "#### 1. First, divide the year into some number of seasons,and find frequencies of tickets for each season"
   ]
  },
  {
   "cell_type": "code",
   "execution_count": 74,
   "metadata": {},
   "outputs": [
    {
     "name": "stdout",
     "output_type": "stream",
     "text": [
      "+--------------+---------------+------+\n",
      "|Violation_Code|Issuer_Precinct|season|\n",
      "+--------------+---------------+------+\n",
      "|            70|             19|winter|\n",
      "|            40|            108|spring|\n",
      "|            14|             25|winter|\n",
      "|            20|            100|summer|\n",
      "|            62|            108|winter|\n",
      "|            36|              0|spring|\n",
      "|            46|             33|spring|\n",
      "|            21|              0|winter|\n",
      "|            36|              0|summer|\n",
      "|            37|             84|winter|\n",
      "|            14|             46|winter|\n",
      "|             7|              0|spring|\n",
      "|            40|             43|summer|\n",
      "|            36|              0|spring|\n",
      "|            38|             70|winter|\n",
      "|            20|            114|spring|\n",
      "|            21|            109|spring|\n",
      "|             7|              0|spring|\n",
      "|            70|            104|spring|\n",
      "|            37|             88|spring|\n",
      "+--------------+---------------+------+\n",
      "only showing top 20 rows\n",
      "\n"
     ]
    }
   ],
   "source": [
    "tickets_seasonality = Spark.sql(\"select Violation_Code , Issuer_Precinct, case when MONTH(TO_DATE(Issue_Date, 'MM/dd/yyyy')) between 03 and 05 then 'spring' when MONTH(TO_DATE(Issue_Date, 'MM/dd/yyyy')) between 06 and 08 then 'summer' when MONTH(TO_DATE(Issue_Date, 'MM/dd/yyyy')) between 09 and 11 then 'autumn' when MONTH(TO_DATE(Issue_Date, 'MM/dd/yyyy')) in (1,2,12) then 'winter' else 'unknown' end  as season from tble_view2017\")\n",
    "tickets_seasonality.show()"
   ]
  },
  {
   "cell_type": "markdown",
   "metadata": {},
   "source": [
    "### Season Binning Details\n",
    "###### Season     Month _interval\n",
    "       spring   march, april,may\n",
    "       summer   june, july, August\n",
    "       autumn   September, October, November\n",
    "       wuinter  December, january, February"
   ]
  },
  {
   "cell_type": "code",
   "execution_count": 75,
   "metadata": {},
   "outputs": [],
   "source": [
    "# Check tickets_seasonality_tbl.\n",
    "tickets_seasonality.createOrReplaceTempView(\"tickets_seasonality_tbl\")"
   ]
  },
  {
   "cell_type": "code",
   "execution_count": 76,
   "metadata": {},
   "outputs": [
    {
     "name": "stdout",
     "output_type": "stream",
     "text": [
      "+------+-------------+\n",
      "|season|no_of_tickets|\n",
      "+------+-------------+\n",
      "|spring|      2870491|\n",
      "|winter|      1702786|\n",
      "|summer|       852405|\n",
      "|autumn|          975|\n",
      "+------+-------------+\n",
      "\n"
     ]
    }
   ],
   "source": [
    "tickets_seasonality_freq = Spark.sql(\"select season, count(*) as no_of_tickets from tickets_seasonality_tbl group by 1 order by 2 desc\")\n",
    "tickets_seasonality_freq.show()"
   ]
  },
  {
   "cell_type": "code",
   "execution_count": 77,
   "metadata": {},
   "outputs": [
    {
     "name": "stdout",
     "output_type": "stream",
     "text": [
      "+--------------+---------+\n",
      "|Violation_Code|Frequency|\n",
      "+--------------+---------+\n",
      "|            14|    61633|\n",
      "|            46|    37732|\n",
      "|            38|    25511|\n",
      "+--------------+---------+\n",
      "only showing top 3 rows\n",
      "\n"
     ]
    }
   ],
   "source": [
    "# For spring season check violation_in_spring.\n",
    "violation_in_spring = Spark.sql(\"select Violation_Code, count(*) as Frequency from tickets_seasonality_tbl where Issuer_Precinct in (19, 14, 1) and season = 'spring' group by Violation_Code order by Frequency desc\" )\n",
    "violation_in_spring.show(3)"
   ]
  },
  {
   "cell_type": "code",
   "execution_count": 78,
   "metadata": {},
   "outputs": [
    {
     "name": "stdout",
     "output_type": "stream",
     "text": [
      "+--------------+---------+\n",
      "|Violation_Code|Frequency|\n",
      "+--------------+---------+\n",
      "|            14|    32824|\n",
      "|            46|    20148|\n",
      "|            38|    14885|\n",
      "+--------------+---------+\n",
      "only showing top 3 rows\n",
      "\n"
     ]
    }
   ],
   "source": [
    "# For winter season check violation_in_winter.\n",
    "violation_in_winter = Spark.sql(\"select Violation_Code, count(*) as Frequency from tickets_seasonality_tbl where Issuer_Precinct in (19, 14, 1) and season = 'winter' group by Violation_Code order by Frequency desc\" )\n",
    "violation_in_winter.show(3)"
   ]
  },
  {
   "cell_type": "code",
   "execution_count": 79,
   "metadata": {},
   "outputs": [
    {
     "name": "stdout",
     "output_type": "stream",
     "text": [
      "+--------------+---------+\n",
      "|Violation_Code|Frequency|\n",
      "+--------------+---------+\n",
      "|            14|    18689|\n",
      "|            46|    10945|\n",
      "|            20|    10393|\n",
      "+--------------+---------+\n",
      "only showing top 3 rows\n",
      "\n"
     ]
    }
   ],
   "source": [
    "# For summer season check violation_in_summer .\n",
    "violation_in_summer = Spark.sql(\"select Violation_Code, count(*) as Frequency from tickets_seasonality_tbl where Issuer_Precinct in (19, 14, 1) and season = 'summer' group by Violation_Code order by Frequency desc\" )\n",
    "violation_in_summer.show(3)"
   ]
  },
  {
   "cell_type": "code",
   "execution_count": 80,
   "metadata": {},
   "outputs": [
    {
     "name": "stdout",
     "output_type": "stream",
     "text": [
      "+--------------+---------+\n",
      "|Violation_Code|Frequency|\n",
      "+--------------+---------+\n",
      "|            46|       15|\n",
      "|            14|        9|\n",
      "|            78|        3|\n",
      "+--------------+---------+\n",
      "only showing top 3 rows\n",
      "\n"
     ]
    }
   ],
   "source": [
    "# For summer season check violation_in_summer .\n",
    "violation_in_autumn = Spark.sql(\"select Violation_Code, count(*) as Frequency from tickets_seasonality_tbl where Issuer_Precinct in (19, 14, 1) and season = 'autumn' group by Violation_Code order by Frequency desc\" )\n",
    "violation_in_autumn.show(3)"
   ]
  },
  {
   "cell_type": "markdown",
   "metadata": {},
   "source": [
    "## Q7. The fines collected from all the instances of parking violation constitute a source of revenue for the NYC Police Department. Let’s take an example of estimating this for the three most commonly occurring codes:"
   ]
  },
  {
   "cell_type": "markdown",
   "metadata": {},
   "source": [
    "#### 1. Find total occurrences of the three most common violation codes ?"
   ]
  },
  {
   "cell_type": "code",
   "execution_count": 81,
   "metadata": {},
   "outputs": [
    {
     "name": "stdout",
     "output_type": "stream",
     "text": [
      "+--------------+---------+\n",
      "|Violation_Code|Frequency|\n",
      "+--------------+---------+\n",
      "|            21|   767740|\n",
      "|            36|   662765|\n",
      "|            38|   541526|\n",
      "+--------------+---------+\n",
      "only showing top 3 rows\n",
      "\n"
     ]
    }
   ],
   "source": [
    "common_Violation = Spark.sql(\"select Violation_Code, count(*) as Frequency from tble_view2017 group by Violation_Code order by Frequency desc\")\n",
    "common_Violation.show(3)"
   ]
  },
  {
   "cell_type": "markdown",
   "metadata": {},
   "source": [
    "#### 2. Using this information, find the total amount collected for the three violation codes with maximum tickets. State the code which has the highest total collection."
   ]
  },
  {
   "cell_type": "code",
   "execution_count": 82,
   "metadata": {},
   "outputs": [
    {
     "name": "stdout",
     "output_type": "stream",
     "text": [
      "+--------------+---------+--------+\n",
      "|Violation_Code|Frequency|    fine|\n",
      "+--------------+---------+--------+\n",
      "|            21|   767740|42225700|\n",
      "|            36|   662765|33138250|\n",
      "|            38|   541526|27076300|\n",
      "+--------------+---------+--------+\n",
      "only showing top 3 rows\n",
      "\n",
      "Total collection =  102440250\n"
     ]
    }
   ],
   "source": [
    "common_Violation_fine=common_Violation.withColumn(\"fine\",when(common_Violation.Violation_Code == 21, (common_Violation.Frequency) *55).otherwise((common_Violation.Frequency)*50))\n",
    "common_Violation_fine.show(3)\n",
    "print('Total collection = ',767740*55+662765*50+541526*50)"
   ]
  },
  {
   "cell_type": "markdown",
   "metadata": {},
   "source": [
    "##### code with 21 had the highest collection."
   ]
  },
  {
   "cell_type": "markdown",
   "metadata": {},
   "source": [
    "#### c).What can you intuitively infer from these findings?"
   ]
  },
  {
   "cell_type": "markdown",
   "metadata": {},
   "source": [
    " IN Jan to June had the major violation & July to Dec has a drastic drop. Highest violation &collection was by Code-21(No parking where parking is not allowed by sign, street marking or traffic control device.)"
   ]
  },
  {
   "cell_type": "code",
   "execution_count": null,
   "metadata": {},
   "outputs": [],
   "source": []
  },
  {
   "cell_type": "code",
   "execution_count": null,
   "metadata": {},
   "outputs": [],
   "source": []
  },
  {
   "cell_type": "code",
   "execution_count": null,
   "metadata": {},
   "outputs": [],
   "source": []
  }
 ],
 "metadata": {
  "kernelspec": {
   "display_name": "PySpark",
   "language": "python",
   "name": "pyspark"
  },
  "language_info": {
   "codemirror_mode": {
    "name": "ipython",
    "version": 3
   },
   "file_extension": ".py",
   "mimetype": "text/x-python",
   "name": "python",
   "nbconvert_exporter": "python",
   "pygments_lexer": "ipython3",
   "version": "3.6.5"
  }
 },
 "nbformat": 4,
 "nbformat_minor": 2
}
